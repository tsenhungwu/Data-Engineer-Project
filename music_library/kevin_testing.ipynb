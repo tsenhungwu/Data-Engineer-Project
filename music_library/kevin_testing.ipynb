{
 "cells": [
  {
   "cell_type": "code",
   "execution_count": 1,
   "metadata": {},
   "outputs": [],
   "source": [
    "%load_ext sql"
   ]
  },
  {
   "cell_type": "code",
   "execution_count": 2,
   "metadata": {
    "scrolled": true
   },
   "outputs": [
    {
     "data": {
      "text/plain": [
       "'Connected: wuchenhong@isongs'"
      ]
     },
     "execution_count": 2,
     "metadata": {},
     "output_type": "execute_result"
    }
   ],
   "source": [
    "%sql postgresql://wuchenhong@127.0.0.1/isongs"
   ]
  },
  {
   "cell_type": "code",
   "execution_count": 3,
   "metadata": {},
   "outputs": [
    {
     "name": "stdout",
     "output_type": "stream",
     "text": [
      " * postgresql://wuchenhong@127.0.0.1/isongs\n",
      "1 rows affected.\n"
     ]
    },
    {
     "data": {
      "text/html": [
       "<table>\n",
       "    <tr>\n",
       "        <th>songplay_id</th>\n",
       "        <th>user_id</th>\n",
       "        <th>song_id</th>\n",
       "        <th>artist_id</th>\n",
       "        <th>session_id</th>\n",
       "        <th>start_time</th>\n",
       "        <th>level</th>\n",
       "        <th>location</th>\n",
       "        <th>user_agent</th>\n",
       "    </tr>\n",
       "    <tr>\n",
       "        <td>483</td>\n",
       "        <td>15</td>\n",
       "        <td>SOZCTXZ12AB0182364</td>\n",
       "        <td>AR5KOSW1187FB35FF4</td>\n",
       "        <td>818</td>\n",
       "        <td>1542837407796</td>\n",
       "        <td>paid</td>\n",
       "        <td>Chicago-Naperville-Elgin, IL-IN-WI</td>\n",
       "        <td>&quot;Mozilla/5.0 (X11; Linux x86_64) AppleWebKit/537.36 (KHTML, like Gecko) Ubuntu Chromium/36.0.1985.125 Chrome/36.0.1985.125 Safari/537.36&quot;</td>\n",
       "    </tr>\n",
       "</table>"
      ],
      "text/plain": [
       "[(483, 15, 'SOZCTXZ12AB0182364', 'AR5KOSW1187FB35FF4', 818, 1542837407796, 'paid', 'Chicago-Naperville-Elgin, IL-IN-WI', '\"Mozilla/5.0 (X11; Linux x86_64) AppleWebKit/537.36 (KHTML, like Gecko) Ubuntu Chromium/36.0.1985.125 Chrome/36.0.1985.125 Safari/537.36\"')]"
      ]
     },
     "execution_count": 3,
     "metadata": {},
     "output_type": "execute_result"
    }
   ],
   "source": [
    "%sql SELECT * FROM songplay_table WHERE song_id IS NOT NULL;"
   ]
  },
  {
   "cell_type": "code",
   "execution_count": 4,
   "metadata": {},
   "outputs": [
    {
     "name": "stdout",
     "output_type": "stream",
     "text": [
      " * postgresql://wuchenhong@127.0.0.1/isongs\n",
      "5 rows affected.\n"
     ]
    },
    {
     "data": {
      "text/html": [
       "<table>\n",
       "    <tr>\n",
       "        <th>songplay_id</th>\n",
       "        <th>user_id</th>\n",
       "        <th>song_id</th>\n",
       "        <th>artist_id</th>\n",
       "        <th>session_id</th>\n",
       "        <th>start_time</th>\n",
       "        <th>level</th>\n",
       "        <th>location</th>\n",
       "        <th>user_agent</th>\n",
       "    </tr>\n",
       "    <tr>\n",
       "        <td>2</td>\n",
       "        <td>8</td>\n",
       "        <td>None</td>\n",
       "        <td>None</td>\n",
       "        <td>139</td>\n",
       "        <td>1541106106796</td>\n",
       "        <td>free</td>\n",
       "        <td>Phoenix-Mesa-Scottsdale, AZ</td>\n",
       "        <td>&quot;Mozilla/5.0 (Windows NT 6.1; WOW64) AppleWebKit/537.36 (KHTML, like Gecko) Chrome/35.0.1916.153 Safari/537.36&quot;</td>\n",
       "    </tr>\n",
       "    <tr>\n",
       "        <td>4</td>\n",
       "        <td>8</td>\n",
       "        <td>None</td>\n",
       "        <td>None</td>\n",
       "        <td>139</td>\n",
       "        <td>1541106352796</td>\n",
       "        <td>free</td>\n",
       "        <td>Phoenix-Mesa-Scottsdale, AZ</td>\n",
       "        <td>&quot;Mozilla/5.0 (Windows NT 6.1; WOW64) AppleWebKit/537.36 (KHTML, like Gecko) Chrome/35.0.1916.153 Safari/537.36&quot;</td>\n",
       "    </tr>\n",
       "    <tr>\n",
       "        <td>5</td>\n",
       "        <td>8</td>\n",
       "        <td>None</td>\n",
       "        <td>None</td>\n",
       "        <td>139</td>\n",
       "        <td>1541106496796</td>\n",
       "        <td>free</td>\n",
       "        <td>Phoenix-Mesa-Scottsdale, AZ</td>\n",
       "        <td>&quot;Mozilla/5.0 (Windows NT 6.1; WOW64) AppleWebKit/537.36 (KHTML, like Gecko) Chrome/35.0.1916.153 Safari/537.36&quot;</td>\n",
       "    </tr>\n",
       "    <tr>\n",
       "        <td>6</td>\n",
       "        <td>8</td>\n",
       "        <td>None</td>\n",
       "        <td>None</td>\n",
       "        <td>139</td>\n",
       "        <td>1541106673796</td>\n",
       "        <td>free</td>\n",
       "        <td>Phoenix-Mesa-Scottsdale, AZ</td>\n",
       "        <td>&quot;Mozilla/5.0 (Windows NT 6.1; WOW64) AppleWebKit/537.36 (KHTML, like Gecko) Chrome/35.0.1916.153 Safari/537.36&quot;</td>\n",
       "    </tr>\n",
       "    <tr>\n",
       "        <td>7</td>\n",
       "        <td>8</td>\n",
       "        <td>None</td>\n",
       "        <td>None</td>\n",
       "        <td>139</td>\n",
       "        <td>1541107053796</td>\n",
       "        <td>free</td>\n",
       "        <td>Phoenix-Mesa-Scottsdale, AZ</td>\n",
       "        <td>&quot;Mozilla/5.0 (Windows NT 6.1; WOW64) AppleWebKit/537.36 (KHTML, like Gecko) Chrome/35.0.1916.153 Safari/537.36&quot;</td>\n",
       "    </tr>\n",
       "</table>"
      ],
      "text/plain": [
       "[(2, 8, None, None, 139, 1541106106796, 'free', 'Phoenix-Mesa-Scottsdale, AZ', '\"Mozilla/5.0 (Windows NT 6.1; WOW64) AppleWebKit/537.36 (KHTML, like Gecko) Chrome/35.0.1916.153 Safari/537.36\"'),\n",
       " (4, 8, None, None, 139, 1541106352796, 'free', 'Phoenix-Mesa-Scottsdale, AZ', '\"Mozilla/5.0 (Windows NT 6.1; WOW64) AppleWebKit/537.36 (KHTML, like Gecko) Chrome/35.0.1916.153 Safari/537.36\"'),\n",
       " (5, 8, None, None, 139, 1541106496796, 'free', 'Phoenix-Mesa-Scottsdale, AZ', '\"Mozilla/5.0 (Windows NT 6.1; WOW64) AppleWebKit/537.36 (KHTML, like Gecko) Chrome/35.0.1916.153 Safari/537.36\"'),\n",
       " (6, 8, None, None, 139, 1541106673796, 'free', 'Phoenix-Mesa-Scottsdale, AZ', '\"Mozilla/5.0 (Windows NT 6.1; WOW64) AppleWebKit/537.36 (KHTML, like Gecko) Chrome/35.0.1916.153 Safari/537.36\"'),\n",
       " (7, 8, None, None, 139, 1541107053796, 'free', 'Phoenix-Mesa-Scottsdale, AZ', '\"Mozilla/5.0 (Windows NT 6.1; WOW64) AppleWebKit/537.36 (KHTML, like Gecko) Chrome/35.0.1916.153 Safari/537.36\"')]"
      ]
     },
     "execution_count": 4,
     "metadata": {},
     "output_type": "execute_result"
    }
   ],
   "source": [
    "%sql SELECT * FROM songplay_table LIMIT 5;"
   ]
  },
  {
   "cell_type": "code",
   "execution_count": 5,
   "metadata": {},
   "outputs": [
    {
     "name": "stdout",
     "output_type": "stream",
     "text": [
      " * postgresql://wuchenhong@127.0.0.1/isongs\n",
      "5 rows affected.\n"
     ]
    },
    {
     "data": {
      "text/html": [
       "<table>\n",
       "    <tr>\n",
       "        <th>user_id</th>\n",
       "        <th>first_name</th>\n",
       "        <th>last_name</th>\n",
       "        <th>gender</th>\n",
       "        <th>level</th>\n",
       "    </tr>\n",
       "    <tr>\n",
       "        <td>8</td>\n",
       "        <td>Kaylee</td>\n",
       "        <td>Summers</td>\n",
       "        <td>F</td>\n",
       "        <td>free</td>\n",
       "    </tr>\n",
       "    <tr>\n",
       "        <td>8</td>\n",
       "        <td>Kaylee</td>\n",
       "        <td>Summers</td>\n",
       "        <td>F</td>\n",
       "        <td>free</td>\n",
       "    </tr>\n",
       "    <tr>\n",
       "        <td>8</td>\n",
       "        <td>Kaylee</td>\n",
       "        <td>Summers</td>\n",
       "        <td>F</td>\n",
       "        <td>free</td>\n",
       "    </tr>\n",
       "    <tr>\n",
       "        <td>8</td>\n",
       "        <td>Kaylee</td>\n",
       "        <td>Summers</td>\n",
       "        <td>F</td>\n",
       "        <td>free</td>\n",
       "    </tr>\n",
       "    <tr>\n",
       "        <td>8</td>\n",
       "        <td>Kaylee</td>\n",
       "        <td>Summers</td>\n",
       "        <td>F</td>\n",
       "        <td>free</td>\n",
       "    </tr>\n",
       "</table>"
      ],
      "text/plain": [
       "[(8, 'Kaylee', 'Summers', 'F', 'free'),\n",
       " (8, 'Kaylee', 'Summers', 'F', 'free'),\n",
       " (8, 'Kaylee', 'Summers', 'F', 'free'),\n",
       " (8, 'Kaylee', 'Summers', 'F', 'free'),\n",
       " (8, 'Kaylee', 'Summers', 'F', 'free')]"
      ]
     },
     "execution_count": 5,
     "metadata": {},
     "output_type": "execute_result"
    }
   ],
   "source": [
    "%sql SELECT * FROM user_table LIMIT 5;"
   ]
  },
  {
   "cell_type": "code",
   "execution_count": 6,
   "metadata": {},
   "outputs": [
    {
     "name": "stdout",
     "output_type": "stream",
     "text": [
      " * postgresql://wuchenhong@127.0.0.1/isongs\n",
      "5 rows affected.\n"
     ]
    },
    {
     "data": {
      "text/html": [
       "<table>\n",
       "    <tr>\n",
       "        <th>song_id</th>\n",
       "        <th>title</th>\n",
       "        <th>artist_id</th>\n",
       "        <th>year</th>\n",
       "        <th>duration</th>\n",
       "    </tr>\n",
       "    <tr>\n",
       "        <td>SOMZWCG12A8C13C480</td>\n",
       "        <td>I Didn&#x27;t Mean To</td>\n",
       "        <td>ARD7TVE1187B99BFB1</td>\n",
       "        <td>0</td>\n",
       "        <td>218.93179</td>\n",
       "    </tr>\n",
       "    <tr>\n",
       "        <td>SOCIWDW12A8C13D406</td>\n",
       "        <td>Soul Deep</td>\n",
       "        <td>ARMJAGH1187FB546F3</td>\n",
       "        <td>1969</td>\n",
       "        <td>148.03546</td>\n",
       "    </tr>\n",
       "    <tr>\n",
       "        <td>SOXVLOJ12AB0189215</td>\n",
       "        <td>Amor De Cabaret</td>\n",
       "        <td>ARKRRTF1187B9984DA</td>\n",
       "        <td>0</td>\n",
       "        <td>177.47546</td>\n",
       "    </tr>\n",
       "    <tr>\n",
       "        <td>SONHOTT12A8C13493C</td>\n",
       "        <td>Something Girls</td>\n",
       "        <td>AR7G5I41187FB4CE6C</td>\n",
       "        <td>1982</td>\n",
       "        <td>233.40363</td>\n",
       "    </tr>\n",
       "    <tr>\n",
       "        <td>SOFSOCN12A8C143F5D</td>\n",
       "        <td>Face the Ashes</td>\n",
       "        <td>ARXR32B1187FB57099</td>\n",
       "        <td>2007</td>\n",
       "        <td>209.60608</td>\n",
       "    </tr>\n",
       "</table>"
      ],
      "text/plain": [
       "[('SOMZWCG12A8C13C480', \"I Didn't Mean To\", 'ARD7TVE1187B99BFB1', 0, Decimal('218.93179')),\n",
       " ('SOCIWDW12A8C13D406', 'Soul Deep', 'ARMJAGH1187FB546F3', 1969, Decimal('148.03546')),\n",
       " ('SOXVLOJ12AB0189215', 'Amor De Cabaret', 'ARKRRTF1187B9984DA', 0, Decimal('177.47546')),\n",
       " ('SONHOTT12A8C13493C', 'Something Girls', 'AR7G5I41187FB4CE6C', 1982, Decimal('233.40363')),\n",
       " ('SOFSOCN12A8C143F5D', 'Face the Ashes', 'ARXR32B1187FB57099', 2007, Decimal('209.60608'))]"
      ]
     },
     "execution_count": 6,
     "metadata": {},
     "output_type": "execute_result"
    }
   ],
   "source": [
    "%sql SELECT * FROM song_table LIMIT 5;"
   ]
  },
  {
   "cell_type": "code",
   "execution_count": 7,
   "metadata": {},
   "outputs": [
    {
     "name": "stdout",
     "output_type": "stream",
     "text": [
      " * postgresql://wuchenhong@127.0.0.1/isongs\n",
      "5 rows affected.\n"
     ]
    },
    {
     "data": {
      "text/html": [
       "<table>\n",
       "    <tr>\n",
       "        <th>artist_id</th>\n",
       "        <th>name</th>\n",
       "        <th>location</th>\n",
       "        <th>lattitude</th>\n",
       "        <th>longitude</th>\n",
       "    </tr>\n",
       "    <tr>\n",
       "        <td>ARD7TVE1187B99BFB1</td>\n",
       "        <td>Casual</td>\n",
       "        <td>California - LA</td>\n",
       "        <td>NaN</td>\n",
       "        <td>NaN</td>\n",
       "    </tr>\n",
       "    <tr>\n",
       "        <td>ARMJAGH1187FB546F3</td>\n",
       "        <td>The Box Tops</td>\n",
       "        <td>Memphis, TN</td>\n",
       "        <td>35.14968</td>\n",
       "        <td>-90.04892</td>\n",
       "    </tr>\n",
       "    <tr>\n",
       "        <td>ARKRRTF1187B9984DA</td>\n",
       "        <td>Sonora Santanera</td>\n",
       "        <td></td>\n",
       "        <td>NaN</td>\n",
       "        <td>NaN</td>\n",
       "    </tr>\n",
       "    <tr>\n",
       "        <td>AR7G5I41187FB4CE6C</td>\n",
       "        <td>Adam Ant</td>\n",
       "        <td>London, England</td>\n",
       "        <td>NaN</td>\n",
       "        <td>NaN</td>\n",
       "    </tr>\n",
       "    <tr>\n",
       "        <td>ARXR32B1187FB57099</td>\n",
       "        <td>Gob</td>\n",
       "        <td></td>\n",
       "        <td>NaN</td>\n",
       "        <td>NaN</td>\n",
       "    </tr>\n",
       "</table>"
      ],
      "text/plain": [
       "[('ARD7TVE1187B99BFB1', 'Casual', 'California - LA', Decimal('NaN'), Decimal('NaN')),\n",
       " ('ARMJAGH1187FB546F3', 'The Box Tops', 'Memphis, TN', Decimal('35.14968'), Decimal('-90.04892')),\n",
       " ('ARKRRTF1187B9984DA', 'Sonora Santanera', '', Decimal('NaN'), Decimal('NaN')),\n",
       " ('AR7G5I41187FB4CE6C', 'Adam Ant', 'London, England', Decimal('NaN'), Decimal('NaN')),\n",
       " ('ARXR32B1187FB57099', 'Gob', '', Decimal('NaN'), Decimal('NaN'))]"
      ]
     },
     "execution_count": 7,
     "metadata": {},
     "output_type": "execute_result"
    }
   ],
   "source": [
    "%sql SELECT * FROM artist_table LIMIT 5;"
   ]
  },
  {
   "cell_type": "code",
   "execution_count": 8,
   "metadata": {},
   "outputs": [
    {
     "name": "stdout",
     "output_type": "stream",
     "text": [
      " * postgresql://wuchenhong@127.0.0.1/isongs\n",
      "5 rows affected.\n"
     ]
    },
    {
     "data": {
      "text/html": [
       "<table>\n",
       "    <tr>\n",
       "        <th>start_time</th>\n",
       "        <th>hour</th>\n",
       "        <th>day</th>\n",
       "        <th>week</th>\n",
       "        <th>month</th>\n",
       "        <th>year</th>\n",
       "        <th>weekday</th>\n",
       "    </tr>\n",
       "    <tr>\n",
       "        <td>1541106106796</td>\n",
       "        <td>0</td>\n",
       "        <td>1</td>\n",
       "        <td>1</td>\n",
       "        <td>1</td>\n",
       "        <td>1970</td>\n",
       "        <td>3</td>\n",
       "    </tr>\n",
       "    <tr>\n",
       "        <td>1541106352796</td>\n",
       "        <td>0</td>\n",
       "        <td>1</td>\n",
       "        <td>1</td>\n",
       "        <td>1</td>\n",
       "        <td>1970</td>\n",
       "        <td>3</td>\n",
       "    </tr>\n",
       "    <tr>\n",
       "        <td>1541106496796</td>\n",
       "        <td>0</td>\n",
       "        <td>1</td>\n",
       "        <td>1</td>\n",
       "        <td>1</td>\n",
       "        <td>1970</td>\n",
       "        <td>3</td>\n",
       "    </tr>\n",
       "    <tr>\n",
       "        <td>1541106673796</td>\n",
       "        <td>0</td>\n",
       "        <td>1</td>\n",
       "        <td>1</td>\n",
       "        <td>1</td>\n",
       "        <td>1970</td>\n",
       "        <td>3</td>\n",
       "    </tr>\n",
       "    <tr>\n",
       "        <td>1541107053796</td>\n",
       "        <td>0</td>\n",
       "        <td>1</td>\n",
       "        <td>1</td>\n",
       "        <td>1</td>\n",
       "        <td>1970</td>\n",
       "        <td>3</td>\n",
       "    </tr>\n",
       "</table>"
      ],
      "text/plain": [
       "[(1541106106796, 0, 1, 1, 1, 1970, '3'),\n",
       " (1541106352796, 0, 1, 1, 1, 1970, '3'),\n",
       " (1541106496796, 0, 1, 1, 1, 1970, '3'),\n",
       " (1541106673796, 0, 1, 1, 1, 1970, '3'),\n",
       " (1541107053796, 0, 1, 1, 1, 1970, '3')]"
      ]
     },
     "execution_count": 8,
     "metadata": {},
     "output_type": "execute_result"
    }
   ],
   "source": [
    "%sql SELECT * FROM time_table LIMIT 5;"
   ]
  },
  {
   "cell_type": "markdown",
   "metadata": {},
   "source": [
    "## REMEMBER: Restart this notebook to close connection to `sparkifydb`\n",
    "Each time you run the cells above, remember to restart this notebook to close the connection to your database. Otherwise, you won't be able to run your code in `create_tables.py`, `etl.py`, or `etl.ipynb` files since you can't make multiple connections to the same database (in this case, sparkifydb)."
   ]
  },
  {
   "cell_type": "code",
   "execution_count": 9,
   "metadata": {
    "scrolled": true
   },
   "outputs": [
    {
     "name": "stdout",
     "output_type": "stream",
     "text": [
      " * postgresql://wuchenhong@127.0.0.1/isongs\n",
      "1 rows affected.\n"
     ]
    },
    {
     "data": {
      "text/html": [
       "<table>\n",
       "    <tr>\n",
       "        <th>count</th>\n",
       "        <th>count_1</th>\n",
       "    </tr>\n",
       "    <tr>\n",
       "        <td>69</td>\n",
       "        <td>69</td>\n",
       "    </tr>\n",
       "</table>"
      ],
      "text/plain": [
       "[(69, 69)]"
      ]
     },
     "execution_count": 9,
     "metadata": {},
     "output_type": "execute_result"
    }
   ],
   "source": [
    "# Number of artists\n",
    "%sql SELECT COUNT(DISTINCT name), COUNT(DISTINCT artist_id) FROM artist_table;"
   ]
  },
  {
   "cell_type": "code",
   "execution_count": 10,
   "metadata": {},
   "outputs": [
    {
     "name": "stdout",
     "output_type": "stream",
     "text": [
      " * postgresql://wuchenhong@127.0.0.1/isongs\n",
      "1 rows affected.\n"
     ]
    },
    {
     "data": {
      "text/html": [
       "<table>\n",
       "    <tr>\n",
       "        <th>number_of_records</th>\n",
       "    </tr>\n",
       "    <tr>\n",
       "        <td>6820</td>\n",
       "    </tr>\n",
       "</table>"
      ],
      "text/plain": [
       "[(6820,)]"
      ]
     },
     "execution_count": 10,
     "metadata": {},
     "output_type": "execute_result"
    }
   ],
   "source": [
    "# Number of records in songplay_table\n",
    "%sql SELECT COUNT(*) AS number_of_records FROM songplay_table;"
   ]
  },
  {
   "cell_type": "code",
   "execution_count": 11,
   "metadata": {},
   "outputs": [
    {
     "name": "stdout",
     "output_type": "stream",
     "text": [
      " * postgresql://wuchenhong@127.0.0.1/isongs\n",
      "1 rows affected.\n"
     ]
    },
    {
     "data": {
      "text/html": [
       "<table>\n",
       "    <tr>\n",
       "        <th>count</th>\n",
       "        <th>count_1</th>\n",
       "    </tr>\n",
       "    <tr>\n",
       "        <td>71</td>\n",
       "        <td>71</td>\n",
       "    </tr>\n",
       "</table>"
      ],
      "text/plain": [
       "[(71, 71)]"
      ]
     },
     "execution_count": 11,
     "metadata": {},
     "output_type": "execute_result"
    }
   ],
   "source": [
    "# Number of songs\n",
    "%sql SELECT COUNT(DISTINCT song_id), COUNT(DISTINCT title) FROM song_table LIMIT 5;"
   ]
  },
  {
   "cell_type": "code",
   "execution_count": 12,
   "metadata": {},
   "outputs": [
    {
     "name": "stdout",
     "output_type": "stream",
     "text": [
      " * postgresql://wuchenhong@127.0.0.1/isongs\n",
      "1 rows affected.\n"
     ]
    },
    {
     "data": {
      "text/html": [
       "<table>\n",
       "    <tr>\n",
       "        <th>count</th>\n",
       "    </tr>\n",
       "    <tr>\n",
       "        <td>6820</td>\n",
       "    </tr>\n",
       "</table>"
      ],
      "text/plain": [
       "[(6820,)]"
      ]
     },
     "execution_count": 12,
     "metadata": {},
     "output_type": "execute_result"
    }
   ],
   "source": [
    "# Number of time\n",
    "%sql SELECT COUNT(*) FROM time_table;"
   ]
  },
  {
   "cell_type": "code",
   "execution_count": 13,
   "metadata": {},
   "outputs": [
    {
     "name": "stdout",
     "output_type": "stream",
     "text": [
      " * postgresql://wuchenhong@127.0.0.1/isongs\n",
      "1 rows affected.\n"
     ]
    },
    {
     "data": {
      "text/html": [
       "<table>\n",
       "    <tr>\n",
       "        <th>count</th>\n",
       "        <th>count_1</th>\n",
       "        <th>count_2</th>\n",
       "    </tr>\n",
       "    <tr>\n",
       "        <td>6820</td>\n",
       "        <td>96</td>\n",
       "        <td>95</td>\n",
       "    </tr>\n",
       "</table>"
      ],
      "text/plain": [
       "[(6820, 96, 95)]"
      ]
     },
     "execution_count": 13,
     "metadata": {},
     "output_type": "execute_result"
    }
   ],
   "source": [
    "# Number of users\n",
    "%sql SELECT COUNT(user_id), COUNT(DISTINCT user_id), COUNT(DISTINCT (first_name, last_name)) FROM user_table;"
   ]
  },
  {
   "cell_type": "code",
   "execution_count": 14,
   "metadata": {},
   "outputs": [
    {
     "name": "stdout",
     "output_type": "stream",
     "text": [
      " * postgresql://wuchenhong@127.0.0.1/isongs\n",
      "1 rows affected.\n"
     ]
    },
    {
     "data": {
      "text/html": [
       "<table>\n",
       "    <tr>\n",
       "        <th>first_name</th>\n",
       "        <th>last_name</th>\n",
       "    </tr>\n",
       "    <tr>\n",
       "        <td>Ava</td>\n",
       "        <td>Robinson</td>\n",
       "    </tr>\n",
       "</table>"
      ],
      "text/plain": [
       "[('Ava', 'Robinson')]"
      ]
     },
     "execution_count": 14,
     "metadata": {},
     "output_type": "execute_result"
    }
   ],
   "source": [
    "# Number of users\n",
    "%sql SELECT first_name, last_name \\\n",
    "    FROM user_table \\\n",
    "    GROUP BY first_name, last_name \\\n",
    "    HAVING COUNT(DISTINCT user_id) != 1"
   ]
  },
  {
   "cell_type": "code",
   "execution_count": 15,
   "metadata": {},
   "outputs": [
    {
     "name": "stdout",
     "output_type": "stream",
     "text": [
      " * postgresql://wuchenhong@127.0.0.1/isongs\n",
      "2 rows affected.\n"
     ]
    },
    {
     "data": {
      "text/html": [
       "<table>\n",
       "    <tr>\n",
       "        <th>first_name</th>\n",
       "        <th>last_name</th>\n",
       "        <th>user_id</th>\n",
       "    </tr>\n",
       "    <tr>\n",
       "        <td>Ava</td>\n",
       "        <td>Robinson</td>\n",
       "        <td>13</td>\n",
       "    </tr>\n",
       "    <tr>\n",
       "        <td>Ava</td>\n",
       "        <td>Robinson</td>\n",
       "        <td>50</td>\n",
       "    </tr>\n",
       "</table>"
      ],
      "text/plain": [
       "[('Ava', 'Robinson', 13), ('Ava', 'Robinson', 50)]"
      ]
     },
     "execution_count": 15,
     "metadata": {},
     "output_type": "execute_result"
    }
   ],
   "source": [
    "%sql SELECT user_table.first_name, user_table.last_name, user_table.user_id FROM \\\n",
    "(SELECT first_name, last_name \\\n",
    "FROM user_table \\\n",
    "GROUP BY first_name, last_name \\\n",
    "HAVING COUNT(DISTINCT user_id) != 1) result \\\n",
    "LEFT JOIN user_table \\\n",
    "ON user_table.first_name = result.first_name \\\n",
    "AND user_table.last_name = result.last_name \\\n",
    "GROUP BY user_table.first_name, user_table.last_name, user_table.user_id;"
   ]
  },
  {
   "cell_type": "code",
   "execution_count": null,
   "metadata": {},
   "outputs": [],
   "source": []
  }
 ],
 "metadata": {
  "kernelspec": {
   "display_name": "Python 3",
   "language": "python",
   "name": "python3"
  },
  "language_info": {
   "codemirror_mode": {
    "name": "ipython",
    "version": 3
   },
   "file_extension": ".py",
   "mimetype": "text/x-python",
   "name": "python",
   "nbconvert_exporter": "python",
   "pygments_lexer": "ipython3",
   "version": "3.6.7"
  }
 },
 "nbformat": 4,
 "nbformat_minor": 2
}
